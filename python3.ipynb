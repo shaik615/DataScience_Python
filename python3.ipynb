{
  "nbformat": 4,
  "nbformat_minor": 0,
  "metadata": {
    "colab": {
      "name": "python3.ipynb",
      "provenance": [],
      "include_colab_link": true
    },
    "kernelspec": {
      "name": "python3",
      "display_name": "Python 3"
    }
  },
  "cells": [
    {
      "cell_type": "markdown",
      "metadata": {
        "id": "view-in-github",
        "colab_type": "text"
      },
      "source": [
        "<a href=\"https://colab.research.google.com/github/shaik615/DataScience_Python/blob/main/python3.ipynb\" target=\"_parent\"><img src=\"https://colab.research.google.com/assets/colab-badge.svg\" alt=\"Open In Colab\"/></a>"
      ]
    },
    {
      "cell_type": "code",
      "metadata": {
        "id": "nWescLtzdr9M"
      },
      "source": [
        "# Python Numbers(int, float,complex)\r\n",
        "a = 5"
      ],
      "execution_count": null,
      "outputs": []
    },
    {
      "cell_type": "code",
      "metadata": {
        "id": "nQA3CoVwCZO2"
      },
      "source": [
        "type(a)"
      ],
      "execution_count": null,
      "outputs": []
    },
    {
      "cell_type": "code",
      "metadata": {
        "id": "jy6fUbrmCeAT"
      },
      "source": [
        "a = 2.0"
      ],
      "execution_count": null,
      "outputs": []
    },
    {
      "cell_type": "code",
      "metadata": {
        "id": "Az43ZOdzChmb"
      },
      "source": [
        "type(a)"
      ],
      "execution_count": null,
      "outputs": []
    },
    {
      "cell_type": "code",
      "metadata": {
        "id": "GMd58EKGCkyZ"
      },
      "source": [
        "a = 1+2j"
      ],
      "execution_count": null,
      "outputs": []
    },
    {
      "cell_type": "code",
      "metadata": {
        "id": "DK6rBwWuCoK6"
      },
      "source": [
        "type(a)"
      ],
      "execution_count": null,
      "outputs": []
    },
    {
      "cell_type": "code",
      "metadata": {
        "id": "PIVWbc2ECr5t"
      },
      "source": [
        "a = \"Shafi\""
      ],
      "execution_count": null,
      "outputs": []
    },
    {
      "cell_type": "code",
      "metadata": {
        "id": "lA74o9lKCw8m"
      },
      "source": [
        "type(a)"
      ],
      "execution_count": null,
      "outputs": []
    },
    {
      "cell_type": "code",
      "metadata": {
        "id": "ZcFDMCJPCz5i"
      },
      "source": [
        "print(id(a))"
      ],
      "execution_count": null,
      "outputs": []
    },
    {
      "cell_type": "code",
      "metadata": {
        "id": "1_0w-v4kC3g1"
      },
      "source": [
        "a = 15"
      ],
      "execution_count": null,
      "outputs": []
    },
    {
      "cell_type": "code",
      "metadata": {
        "id": "A-JRz0XQC8XN"
      },
      "source": [
        "print(id(a))"
      ],
      "execution_count": null,
      "outputs": []
    },
    {
      "cell_type": "code",
      "metadata": {
        "id": "kByfsJ2zC-4H"
      },
      "source": [
        "type(a)"
      ],
      "execution_count": null,
      "outputs": []
    },
    {
      "cell_type": "code",
      "metadata": {
        "id": "ehd_dR_RDG6s"
      },
      "source": [
        ""
      ],
      "execution_count": null,
      "outputs": []
    },
    {
      "cell_type": "markdown",
      "metadata": {
        "id": "hoHQJXfODLeR"
      },
      "source": [
        "###############################   List   ################################"
      ]
    },
    {
      "cell_type": "code",
      "metadata": {
        "id": "X6SgnMD1DMXY"
      },
      "source": [
        "list1 = ['Python', 'Python', 2013, 2018,[1,2,3,4]]"
      ],
      "execution_count": null,
      "outputs": []
    },
    {
      "cell_type": "code",
      "metadata": {
        "id": "ykXA68V-DRW4"
      },
      "source": [
        "list1[2]"
      ],
      "execution_count": null,
      "outputs": []
    },
    {
      "cell_type": "code",
      "metadata": {
        "id": "Ax5ZZprZQw-y"
      },
      "source": [
        "list1[4][2]"
      ],
      "execution_count": null,
      "outputs": []
    },
    {
      "cell_type": "code",
      "metadata": {
        "id": "jM3xsWa3DUyQ"
      },
      "source": [
        "list2 = [1, 2, 3, 4, 5 ]"
      ],
      "execution_count": null,
      "outputs": []
    },
    {
      "cell_type": "code",
      "metadata": {
        "id": "h2ziS84-DaA-"
      },
      "source": [
        "print(id(list2))"
      ],
      "execution_count": null,
      "outputs": []
    },
    {
      "cell_type": "code",
      "metadata": {
        "id": "4jwgk2nlDdF6"
      },
      "source": [
        "list2[3] = 257"
      ],
      "execution_count": null,
      "outputs": []
    },
    {
      "cell_type": "code",
      "metadata": {
        "id": "hFsKiSMLDjA0"
      },
      "source": [
        "print(list2)"
      ],
      "execution_count": null,
      "outputs": []
    },
    {
      "cell_type": "code",
      "metadata": {
        "id": "zRAT2ylNDmZ8"
      },
      "source": [
        "print(id(list2))"
      ],
      "execution_count": null,
      "outputs": []
    },
    {
      "cell_type": "code",
      "metadata": {
        "id": "6fKbLet-Dr3u"
      },
      "source": [
        "list3 = [\"a\", \"b\", \"c\", \"d\"]"
      ],
      "execution_count": null,
      "outputs": []
    },
    {
      "cell_type": "code",
      "metadata": {
        "id": "TGd2oACoDyuQ"
      },
      "source": [
        "python_class = [\"Basics\", \"of\", \"Python\"]"
      ],
      "execution_count": null,
      "outputs": []
    },
    {
      "cell_type": "code",
      "metadata": {
        "id": "knVvlJ3-D2W0"
      },
      "source": [
        "list1 = ['of', 'Basics', 2014, 2018]"
      ],
      "execution_count": null,
      "outputs": []
    },
    {
      "cell_type": "code",
      "metadata": {
        "id": "oaYW6IKuD6-R"
      },
      "source": [
        "print(list1[0])"
      ],
      "execution_count": null,
      "outputs": []
    },
    {
      "cell_type": "code",
      "metadata": {
        "id": "QMhmicq9D-Gf"
      },
      "source": [
        "list2 = [1, 2, 3, 4, 5, 6, 7 ]"
      ],
      "execution_count": null,
      "outputs": []
    },
    {
      "cell_type": "code",
      "metadata": {
        "id": "a7f6E0y7ECd-"
      },
      "source": [
        "list2[3] = \"Python\""
      ],
      "execution_count": null,
      "outputs": []
    },
    {
      "cell_type": "code",
      "metadata": {
        "id": "WY2j4zxNEFkT"
      },
      "source": [
        "print(list2)"
      ],
      "execution_count": null,
      "outputs": []
    },
    {
      "cell_type": "code",
      "metadata": {
        "id": "25mgZtGVEI75"
      },
      "source": [
        "list1 =[ \"Shafi\" ]"
      ],
      "execution_count": null,
      "outputs": []
    },
    {
      "cell_type": "code",
      "metadata": {
        "id": "FQ1Nn2B0EQ2l"
      },
      "source": [
        "print(id(list1))"
      ],
      "execution_count": null,
      "outputs": []
    },
    {
      "cell_type": "code",
      "metadata": {
        "id": "wdNgS9sVEUF_"
      },
      "source": [
        "list2 = [1,2,3,4,5,6]"
      ],
      "execution_count": null,
      "outputs": []
    },
    {
      "cell_type": "code",
      "metadata": {
        "id": "rRXnUxLrEbjI"
      },
      "source": [
        "print(id(list1))"
      ],
      "execution_count": null,
      "outputs": []
    },
    {
      "cell_type": "code",
      "metadata": {
        "id": "OBg4YrfiEeu9"
      },
      "source": [
        "list3 = ['Python', 'Basics', 2013, 2018]"
      ],
      "execution_count": null,
      "outputs": []
    },
    {
      "cell_type": "code",
      "metadata": {
        "id": "_kkCYd-UEkSV"
      },
      "source": [
        "list1+ list2 +list3"
      ],
      "execution_count": null,
      "outputs": []
    },
    {
      "cell_type": "code",
      "metadata": {
        "id": "ipRcny0LEnbu"
      },
      "source": [
        "print(id(list1))"
      ],
      "execution_count": null,
      "outputs": []
    },
    {
      "cell_type": "code",
      "metadata": {
        "id": "W5Y9rmLEEtMR"
      },
      "source": [
        "print(list1[2])"
      ],
      "execution_count": null,
      "outputs": []
    },
    {
      "cell_type": "code",
      "metadata": {
        "id": "aIRQ_gqbEzwO"
      },
      "source": [
        "list1[2] = 8055"
      ],
      "execution_count": null,
      "outputs": []
    },
    {
      "cell_type": "code",
      "metadata": {
        "id": "CcDXJKwHE8El"
      },
      "source": [
        "print(list1)"
      ],
      "execution_count": null,
      "outputs": []
    },
    {
      "cell_type": "code",
      "metadata": {
        "id": "Z2_3z1RFE_iE"
      },
      "source": [
        "list1[0] = \"Basics\""
      ],
      "execution_count": null,
      "outputs": []
    },
    {
      "cell_type": "code",
      "metadata": {
        "id": "NBJrsrTJFJxG"
      },
      "source": [
        "list1 = ['Python', 'Basics', 2013, 2018]"
      ],
      "execution_count": null,
      "outputs": []
    },
    {
      "cell_type": "code",
      "metadata": {
        "id": "4l0RETrFFNKl"
      },
      "source": [
        "print(list1)"
      ],
      "execution_count": null,
      "outputs": []
    },
    {
      "cell_type": "code",
      "metadata": {
        "id": "4rDv8XuSFQM-"
      },
      "source": [
        "del(list1)"
      ],
      "execution_count": null,
      "outputs": []
    },
    {
      "cell_type": "code",
      "metadata": {
        "id": "2h6KuuOkFThQ"
      },
      "source": [
        "print(list1)"
      ],
      "execution_count": null,
      "outputs": []
    },
    {
      "cell_type": "code",
      "metadata": {
        "id": "l8PwykW0FWaj"
      },
      "source": [
        "# Append\r\n",
        "\r\n",
        "aList = [123, 'xyz', 'zara', 'abc']"
      ],
      "execution_count": null,
      "outputs": []
    },
    {
      "cell_type": "code",
      "metadata": {
        "id": "qjRRkOoTFboL"
      },
      "source": [
        "aList.append( 1234 )"
      ],
      "execution_count": null,
      "outputs": []
    },
    {
      "cell_type": "code",
      "metadata": {
        "id": "b8ZkrXYCFfOy"
      },
      "source": [
        "print(aList)"
      ],
      "execution_count": null,
      "outputs": []
    },
    {
      "cell_type": "code",
      "metadata": {
        "id": "uWw7B2wNFiC-"
      },
      "source": [
        "#Pop\r\n",
        "\r\n",
        "print (aList.pop())"
      ],
      "execution_count": null,
      "outputs": []
    },
    {
      "cell_type": "code",
      "metadata": {
        "id": "IYoIxrn6FocR"
      },
      "source": [
        "print(aList)"
      ],
      "execution_count": null,
      "outputs": []
    },
    {
      "cell_type": "code",
      "metadata": {
        "id": "7-Et0gTmFsnJ"
      },
      "source": [
        "aList"
      ],
      "execution_count": null,
      "outputs": []
    },
    {
      "cell_type": "code",
      "metadata": {
        "id": "xyb1WnikFxbH"
      },
      "source": [
        "print (aList.pop(2))"
      ],
      "execution_count": null,
      "outputs": []
    },
    {
      "cell_type": "code",
      "metadata": {
        "id": "Iq3H_sutF12P"
      },
      "source": [
        "aList"
      ],
      "execution_count": null,
      "outputs": []
    },
    {
      "cell_type": "code",
      "metadata": {
        "id": "WlgZ6cj5F5_H"
      },
      "source": [
        "#Insert\r\n",
        "\r\n",
        "aList.insert( 1, 2009)"
      ],
      "execution_count": null,
      "outputs": []
    },
    {
      "cell_type": "code",
      "metadata": {
        "id": "qSsgu6NdF9-4"
      },
      "source": [
        "print (aList)"
      ],
      "execution_count": null,
      "outputs": []
    },
    {
      "cell_type": "code",
      "metadata": {
        "id": "BxQ2zHT9GCeY"
      },
      "source": [
        "aList.insert(2,\"shafi\")"
      ],
      "execution_count": null,
      "outputs": []
    },
    {
      "cell_type": "code",
      "metadata": {
        "id": "ln8BtHiKGQkJ"
      },
      "source": [
        "print (aList)"
      ],
      "execution_count": null,
      "outputs": []
    },
    {
      "cell_type": "code",
      "metadata": {
        "id": "dk60MhImGTjc"
      },
      "source": [
        "#Extend\r\n",
        "\r\n",
        "aList = [123, 'xyz', 'tommy', 'abc', 123]"
      ],
      "execution_count": null,
      "outputs": []
    },
    {
      "cell_type": "code",
      "metadata": {
        "id": "Or_jreceGkJb"
      },
      "source": [
        "bList = [2009, 'beneli']"
      ],
      "execution_count": null,
      "outputs": []
    },
    {
      "cell_type": "code",
      "metadata": {
        "id": "x626Rv25Gn1_"
      },
      "source": [
        "aList.extend(bList)"
      ],
      "execution_count": null,
      "outputs": []
    },
    {
      "cell_type": "code",
      "metadata": {
        "id": "LJrDsG1cGr0P"
      },
      "source": [
        "print(aList)"
      ],
      "execution_count": null,
      "outputs": []
    },
    {
      "cell_type": "code",
      "metadata": {
        "id": "8teczx4MGu4z"
      },
      "source": [
        "#Reverse\r\n",
        "\r\n",
        "aList.reverse()"
      ],
      "execution_count": null,
      "outputs": []
    },
    {
      "cell_type": "code",
      "metadata": {
        "id": "zm3DKqTLGzal"
      },
      "source": [
        "print(aList)"
      ],
      "execution_count": null,
      "outputs": []
    },
    {
      "cell_type": "code",
      "metadata": {
        "id": "Y9AXTwW5G2Dp"
      },
      "source": [
        "#Sort\r\n",
        "\r\n",
        "\r\n",
        "blist = [8,99,45,33]"
      ],
      "execution_count": null,
      "outputs": []
    },
    {
      "cell_type": "code",
      "metadata": {
        "id": "quNuY65GG6cO"
      },
      "source": [
        "blist.sort(reverse = True)"
      ],
      "execution_count": null,
      "outputs": []
    },
    {
      "cell_type": "code",
      "metadata": {
        "id": "5fxUz32rG-3j"
      },
      "source": [
        "print(blist)"
      ],
      "execution_count": null,
      "outputs": []
    },
    {
      "cell_type": "code",
      "metadata": {
        "id": "kTp5ie6iHB7h"
      },
      "source": [
        "#count\r\n",
        "\r\n",
        "aList = [123, 'xyz', 'zara', 'abc', 123, \"zara\"]"
      ],
      "execution_count": null,
      "outputs": []
    },
    {
      "cell_type": "code",
      "metadata": {
        "id": "hUB_fftyHIJx"
      },
      "source": [
        "print(aList.count(\"zara\"))"
      ],
      "execution_count": null,
      "outputs": []
    },
    {
      "cell_type": "code",
      "metadata": {
        "id": "ue09UOSWHLFL"
      },
      "source": [
        ""
      ],
      "execution_count": null,
      "outputs": []
    },
    {
      "cell_type": "markdown",
      "metadata": {
        "id": "qRw-8apSHXVl"
      },
      "source": [
        "##################################### Tuples ####################################"
      ]
    },
    {
      "cell_type": "code",
      "metadata": {
        "id": "6T5K_Bp5HYHj"
      },
      "source": [
        "## Create a tuple dataset\r\n",
        "tup1 = ('Street triple','Detona','Beneli', 8055)\r\n",
        "tup2 = (1, 2, 3, 4, 5 )\r\n",
        "tup3 = (\"a\", \"b\", \"c\", \"d\")\r\n"
      ],
      "execution_count": null,
      "outputs": []
    },
    {
      "cell_type": "code",
      "metadata": {
        "id": "maKC6wsYHb4D"
      },
      "source": [
        "tup1"
      ],
      "execution_count": null,
      "outputs": []
    },
    {
      "cell_type": "code",
      "metadata": {
        "id": "cHPIRWRhHdUv"
      },
      "source": [
        "tup2"
      ],
      "execution_count": null,
      "outputs": []
    },
    {
      "cell_type": "code",
      "metadata": {
        "id": "ZU3kYE8RHfBk"
      },
      "source": [
        "tup3"
      ],
      "execution_count": null,
      "outputs": []
    },
    {
      "cell_type": "code",
      "metadata": {
        "id": "PDV4D4X1HgVs"
      },
      "source": [
        "### Create a empty tuple\r\n",
        "tup1 = ()"
      ],
      "execution_count": null,
      "outputs": []
    },
    {
      "cell_type": "code",
      "metadata": {
        "id": "p6NXZG_SHkYx"
      },
      "source": [
        "tup1"
      ],
      "execution_count": null,
      "outputs": []
    },
    {
      "cell_type": "code",
      "metadata": {
        "id": "mV_HTsqHHmno"
      },
      "source": [
        "#Create a single tuple\r\n",
        "tup1 = (50,)"
      ],
      "execution_count": null,
      "outputs": []
    },
    {
      "cell_type": "code",
      "metadata": {
        "id": "UPaSJgIvHrbz"
      },
      "source": [
        "tup1"
      ],
      "execution_count": null,
      "outputs": []
    },
    {
      "cell_type": "code",
      "metadata": {
        "id": "8ClD2VpMHs46"
      },
      "source": [
        "#Accessing Values in Tuples\r\n",
        "tup1 = ('Street triple','Detona','Beneli', 8055)"
      ],
      "execution_count": null,
      "outputs": []
    },
    {
      "cell_type": "code",
      "metadata": {
        "id": "PTRRnteuHyOf"
      },
      "source": [
        "print(tup1[0])"
      ],
      "execution_count": null,
      "outputs": []
    },
    {
      "cell_type": "code",
      "metadata": {
        "id": "0PyHDmnVH1oG"
      },
      "source": [
        "tup2 = (1, 2, 3, 4, 5, 6, 7 )"
      ],
      "execution_count": null,
      "outputs": []
    },
    {
      "cell_type": "code",
      "metadata": {
        "id": "v1ObaB8SH5AB"
      },
      "source": [
        "tup2[2] = 14"
      ],
      "execution_count": null,
      "outputs": []
    },
    {
      "cell_type": "code",
      "metadata": {
        "id": "VCSwnzsWH708"
      },
      "source": [
        "print(tup2[1:5])"
      ],
      "execution_count": null,
      "outputs": []
    },
    {
      "cell_type": "code",
      "metadata": {
        "id": "1qbXtt8KIA-C"
      },
      "source": [
        "#Updating Tuples\r\n",
        "tup1 = (12, 34.56)\r\n",
        "tup2 = ('abc', 'xyz')"
      ],
      "execution_count": null,
      "outputs": []
    },
    {
      "cell_type": "code",
      "metadata": {
        "id": "48hKsp-2IJM_"
      },
      "source": [
        "tup1"
      ],
      "execution_count": null,
      "outputs": []
    },
    {
      "cell_type": "code",
      "metadata": {
        "id": "GzlKxrP2ILq1"
      },
      "source": [
        "tup2"
      ],
      "execution_count": null,
      "outputs": []
    },
    {
      "cell_type": "code",
      "metadata": {
        "id": "mgmhB_zFIO8o"
      },
      "source": [
        "# So,create a new tuple as follows\r\n",
        "tup1 = tup1 + tup2\r\n",
        "print(tup1)\r\n"
      ],
      "execution_count": null,
      "outputs": []
    },
    {
      "cell_type": "code",
      "metadata": {
        "id": "MXAEggVFISfX"
      },
      "source": [
        "#Delete Tuple Elements\r\n",
        "tup = ('Street triple','Detona','Beneli', 8055)\r\n",
        "print (tup)"
      ],
      "execution_count": null,
      "outputs": []
    },
    {
      "cell_type": "code",
      "metadata": {
        "id": "YwEPxAJFIZzY"
      },
      "source": [
        "del(tup)\r\n",
        "print(tup)"
      ],
      "execution_count": null,
      "outputs": []
    },
    {
      "cell_type": "code",
      "metadata": {
        "id": "H5ZErK6tIc4F"
      },
      "source": [
        "print (\"After deleting tup : \")"
      ],
      "execution_count": null,
      "outputs": []
    },
    {
      "cell_type": "code",
      "metadata": {
        "id": "mYgKrMx0Ih0m"
      },
      "source": [
        "print(tup)"
      ],
      "execution_count": null,
      "outputs": []
    },
    {
      "cell_type": "markdown",
      "metadata": {
        "id": "eEOTaw00Ipt1"
      },
      "source": [
        "#Basic Tuples Operations"
      ]
    },
    {
      "cell_type": "code",
      "metadata": {
        "id": "07BKoJPpIqai"
      },
      "source": [
        "#To know length of the tuple\r\n",
        "tup = (1,2,3,'Basics','Python')\r\n",
        "len(tup)"
      ],
      "execution_count": null,
      "outputs": []
    },
    {
      "cell_type": "code",
      "metadata": {
        "id": "jy1o7GqaIums"
      },
      "source": [
        "#To add two elements\r\n",
        "tup2 =(4,5,6)\r\n"
      ],
      "execution_count": null,
      "outputs": []
    },
    {
      "cell_type": "code",
      "metadata": {
        "id": "-iulGYN3I42k"
      },
      "source": [
        "tup3 = tup+tup2"
      ],
      "execution_count": null,
      "outputs": []
    },
    {
      "cell_type": "code",
      "metadata": {
        "id": "eOhzFmjBI-XD"
      },
      "source": [
        "tup3"
      ],
      "execution_count": null,
      "outputs": []
    },
    {
      "cell_type": "code",
      "metadata": {
        "id": "QJ8mcJCtJAOx"
      },
      "source": [
        "tup3*3"
      ],
      "execution_count": null,
      "outputs": []
    },
    {
      "cell_type": "code",
      "metadata": {
        "id": "kUa2sTspJEI4"
      },
      "source": [
        "tup4 = ('Hi!',)"
      ],
      "execution_count": null,
      "outputs": []
    },
    {
      "cell_type": "code",
      "metadata": {
        "id": "fMACpS7ZJLGf"
      },
      "source": [
        "tup4*3"
      ],
      "execution_count": null,
      "outputs": []
    },
    {
      "cell_type": "code",
      "metadata": {
        "id": "TcMqIb63JONb"
      },
      "source": [
        "# Max and min in tuple\r\n",
        "tuple1 = (456, 700, 200)\r\n",
        "print(max(tuple1))"
      ],
      "execution_count": null,
      "outputs": []
    },
    {
      "cell_type": "code",
      "metadata": {
        "id": "Cn_9tORSJSrz"
      },
      "source": [
        "print(min(tuple1))"
      ],
      "execution_count": null,
      "outputs": []
    },
    {
      "cell_type": "code",
      "metadata": {
        "id": "5vBySKvJJV3J"
      },
      "source": [
        ""
      ],
      "execution_count": null,
      "outputs": []
    },
    {
      "cell_type": "markdown",
      "metadata": {
        "id": "hafBD2I1JZN2"
      },
      "source": [
        "############################## Dictionary #################################"
      ]
    },
    {
      "cell_type": "code",
      "metadata": {
        "id": "06WvU1q3JaBK"
      },
      "source": [
        "#Accessing Values in Dictionary\r\n",
        "dict1 = {'Name': 'Shafi', 'Age': 35, 'bike': 'Apache'}"
      ],
      "execution_count": null,
      "outputs": []
    },
    {
      "cell_type": "code",
      "metadata": {
        "id": "6hVMFrcrJd8U"
      },
      "source": [
        "print(dict1)"
      ],
      "execution_count": null,
      "outputs": []
    },
    {
      "cell_type": "code",
      "metadata": {
        "id": "CUP_KJ3YJm9n"
      },
      "source": [
        "print(dict1['Name'])"
      ],
      "execution_count": null,
      "outputs": []
    },
    {
      "cell_type": "code",
      "metadata": {
        "id": "9YUDCBy6Jq34"
      },
      "source": [
        "print(dict1['Age'])\r\n",
        "print(dict1['bike'])"
      ],
      "execution_count": null,
      "outputs": []
    },
    {
      "cell_type": "code",
      "metadata": {
        "id": "8HTTugNCJugF"
      },
      "source": [
        "##Updating Dictionary\r\n",
        "dict1 = {'Name': 'Shafi', 'Age': 35, 'bike': 'Beneli'}\r\n",
        "dict1['Age'] = 8; # update existing entry\r\n"
      ],
      "execution_count": null,
      "outputs": []
    },
    {
      "cell_type": "code",
      "metadata": {
        "id": "FInat5D-J4UE"
      },
      "source": [
        "print(dict1)"
      ],
      "execution_count": null,
      "outputs": []
    },
    {
      "cell_type": "code",
      "metadata": {
        "id": "txH25cfgJ7Af"
      },
      "source": [
        "dict1['Name'] = \"Adam shafi\" # Add new entry"
      ],
      "execution_count": null,
      "outputs": []
    },
    {
      "cell_type": "code",
      "metadata": {
        "id": "zwCJg93GKBK1"
      },
      "source": [
        "dict1['bike'] = \"Honda\""
      ],
      "execution_count": null,
      "outputs": []
    },
    {
      "cell_type": "code",
      "metadata": {
        "id": "2XOpsZpEKEGX"
      },
      "source": [
        "dict1[\"Area\"] = \"Bangalore\""
      ],
      "execution_count": null,
      "outputs": []
    },
    {
      "cell_type": "code",
      "metadata": {
        "id": "kzzI1DWrKGg4"
      },
      "source": [
        "dict1"
      ],
      "execution_count": null,
      "outputs": []
    },
    {
      "cell_type": "code",
      "metadata": {
        "id": "X9Us7WUeKJEm"
      },
      "source": [
        "print(dict1['Age'])\r\n",
        "print(dict1['bike'])"
      ],
      "execution_count": null,
      "outputs": []
    },
    {
      "cell_type": "code",
      "metadata": {
        "id": "SgQYKjf5KQFf"
      },
      "source": [
        "#Delete Dictionary Elements\r\n",
        "dict1 = {'Name': 'Shafi', 'Age': 35, 'bike': 'Apache'}"
      ],
      "execution_count": null,
      "outputs": []
    },
    {
      "cell_type": "code",
      "metadata": {
        "id": "f0KAS30sKX3v"
      },
      "source": [
        "del(dict1['Name']); # remove entry with key 'Name'"
      ],
      "execution_count": null,
      "outputs": []
    },
    {
      "cell_type": "code",
      "metadata": {
        "id": "Ri8GJDlzKeW4"
      },
      "source": [
        "dict1"
      ],
      "execution_count": null,
      "outputs": []
    },
    {
      "cell_type": "code",
      "metadata": {
        "id": "LM5oMd8gKgyp"
      },
      "source": [
        "dict1.clear()    # remove all entries in dict"
      ],
      "execution_count": null,
      "outputs": []
    },
    {
      "cell_type": "code",
      "metadata": {
        "id": "ZWZHroXVKlhz"
      },
      "source": [
        "dict1"
      ],
      "execution_count": null,
      "outputs": []
    },
    {
      "cell_type": "code",
      "metadata": {
        "id": "PnvAEiC-KnRm"
      },
      "source": [
        "del(dict1)        # delete entire dictionary"
      ],
      "execution_count": null,
      "outputs": []
    },
    {
      "cell_type": "code",
      "metadata": {
        "id": "MnfvKAVNKrnn"
      },
      "source": [
        "dict1"
      ],
      "execution_count": null,
      "outputs": []
    },
    {
      "cell_type": "code",
      "metadata": {
        "id": "gjzqlvgYKs_S"
      },
      "source": [
        ""
      ],
      "execution_count": null,
      "outputs": []
    }
  ]
}