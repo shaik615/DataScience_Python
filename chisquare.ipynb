{
  "nbformat": 4,
  "nbformat_minor": 0,
  "metadata": {
    "colab": {
      "name": "Untitled8.ipynb",
      "provenance": [],
      "authorship_tag": "ABX9TyPxNtGo7AMJQGZP0ef4BSSK",
      "include_colab_link": true
    },
    "kernelspec": {
      "name": "python3",
      "display_name": "Python 3"
    }
  },
  "cells": [
    {
      "cell_type": "markdown",
      "metadata": {
        "id": "view-in-github",
        "colab_type": "text"
      },
      "source": [
        "<a href=\"https://colab.research.google.com/github/shaik615/DataScience_Python/blob/main/chisquare.ipynb\" target=\"_parent\"><img src=\"https://colab.research.google.com/assets/colab-badge.svg\" alt=\"Open In Colab\"/></a>"
      ]
    },
    {
      "cell_type": "code",
      "metadata": {
        "id": "qZ9q249e6BvF"
      },
      "source": [
        "from scipy import stats\r\n",
        "import pandas as pd\r\n",
        "import numpy as np"
      ],
      "execution_count": 1,
      "outputs": []
    },
    {
      "cell_type": "code",
      "metadata": {
        "id": "MJ-nRvly7Drq"
      },
      "source": [
        "from scipy.stats import chi2_contingency"
      ],
      "execution_count": 3,
      "outputs": []
    },
    {
      "cell_type": "code",
      "metadata": {
        "id": "jkmSijzu6l8Z"
      },
      "source": [
        "table = [[14,4],[0,10]]"
      ],
      "execution_count": 2,
      "outputs": []
    },
    {
      "cell_type": "code",
      "metadata": {
        "id": "R-H1ITnt60CO"
      },
      "source": [
        "stat, p, dof, expected = chi2_contingency(table)"
      ],
      "execution_count": 4,
      "outputs": []
    },
    {
      "cell_type": "code",
      "metadata": {
        "id": "CNjsTWMV7O01"
      },
      "source": [
        "alpha = 0.05"
      ],
      "execution_count": 5,
      "outputs": []
    },
    {
      "cell_type": "code",
      "metadata": {
        "colab": {
          "base_uri": "https://localhost:8080/"
        },
        "id": "xJMY9yZ17SRh",
        "outputId": "19bbe1f7-59cf-4c1d-9a0d-c3a2351ab5ab"
      },
      "source": [
        "print('significance=%.3f, p=%.3f' % (alpha, p))\r\n",
        "if p <= alpha:\r\n",
        "    print('Variables are associated (reject H0)')\r\n",
        "else:\r\n",
        "    print('Variables are not associated(fail to reject H0)')"
      ],
      "execution_count": 6,
      "outputs": [
        {
          "output_type": "stream",
          "text": [
            "significance=0.050, p=0.000\n",
            "Variables are associated (reject H0)\n"
          ],
          "name": "stdout"
        }
      ]
    },
    {
      "cell_type": "code",
      "metadata": {
        "id": "A7S3AFhV7W3c"
      },
      "source": [
        ""
      ],
      "execution_count": null,
      "outputs": []
    }
  ]
}