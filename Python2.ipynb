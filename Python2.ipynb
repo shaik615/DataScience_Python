{
  "nbformat": 4,
  "nbformat_minor": 0,
  "metadata": {
    "colab": {
      "name": "Python2.ipynb",
      "provenance": [],
      "include_colab_link": true
    },
    "kernelspec": {
      "name": "python3",
      "display_name": "Python 3"
    }
  },
  "cells": [
    {
      "cell_type": "markdown",
      "metadata": {
        "id": "view-in-github",
        "colab_type": "text"
      },
      "source": [
        "<a href=\"https://colab.research.google.com/github/shaik615/DataScience_Python/blob/main/Python2.ipynb\" target=\"_parent\"><img src=\"https://colab.research.google.com/assets/colab-badge.svg\" alt=\"Open In Colab\"/></a>"
      ]
    },
    {
      "cell_type": "code",
      "metadata": {
        "id": "2pZlzyyHznMo"
      },
      "source": [
        ""
      ],
      "execution_count": null,
      "outputs": []
    },
    {
      "cell_type": "markdown",
      "metadata": {
        "id": "JUNBx7tSzx6P"
      },
      "source": [
        "# Strings\r\n"
      ]
    },
    {
      "cell_type": "code",
      "metadata": {
        "id": "RxLvaY6vz19Q"
      },
      "source": [
        "# strings are used to record textual information as well as arbitary collections of bytes.\r\n",
        "# Accesing Value in Strings\r\n",
        "Name = \"Johnny\""
      ],
      "execution_count": null,
      "outputs": []
    },
    {
      "cell_type": "code",
      "metadata": {
        "id": "_K3n6y4Dz6Pi"
      },
      "source": [
        "Name"
      ],
      "execution_count": null,
      "outputs": []
    },
    {
      "cell_type": "code",
      "metadata": {
        "id": "2VpgtXOXz8ay"
      },
      "source": [
        "print(Name)"
      ],
      "execution_count": null,
      "outputs": []
    },
    {
      "cell_type": "code",
      "metadata": {
        "id": "U_HzObzg0B92"
      },
      "source": [
        "print(Name[0])"
      ],
      "execution_count": null,
      "outputs": []
    },
    {
      "cell_type": "code",
      "metadata": {
        "id": "xvX6-qoU0F25"
      },
      "source": [
        "print(Name[3:])"
      ],
      "execution_count": null,
      "outputs": []
    },
    {
      "cell_type": "code",
      "metadata": {
        "id": "bT4J1srl0Jqa"
      },
      "source": [
        "print(Name[-1])"
      ],
      "execution_count": null,
      "outputs": []
    },
    {
      "cell_type": "code",
      "metadata": {
        "id": "_qHpbN9q0OAw"
      },
      "source": [
        "print(Name[-3:-1])"
      ],
      "execution_count": null,
      "outputs": []
    },
    {
      "cell_type": "code",
      "metadata": {
        "id": "KCSULvqw0R_r"
      },
      "source": [
        "# Update Strings\r\n",
        "var1 = 'Hello worlds'"
      ],
      "execution_count": null,
      "outputs": []
    },
    {
      "cell_type": "code",
      "metadata": {
        "id": "zuRuyf1R0Z_a"
      },
      "source": [
        "print(var1)"
      ],
      "execution_count": null,
      "outputs": []
    },
    {
      "cell_type": "code",
      "metadata": {
        "id": "0CmizXzb0djG"
      },
      "source": [
        "poem = \"\"\" twinkle twink'le little star\r\n",
        "           how i wonder what yo'u are \"\"\""
      ],
      "execution_count": null,
      "outputs": []
    },
    {
      "cell_type": "code",
      "metadata": {
        "id": "VkToCAdh0iRW"
      },
      "source": [
        "poem"
      ],
      "execution_count": null,
      "outputs": []
    },
    {
      "cell_type": "code",
      "metadata": {
        "id": "IWJ2rjO30jg9"
      },
      "source": [
        "print(\"2+3\")"
      ],
      "execution_count": null,
      "outputs": []
    },
    {
      "cell_type": "code",
      "metadata": {
        "id": "MNnlk2LK0omu"
      },
      "source": [
        "print(2+3)"
      ],
      "execution_count": null,
      "outputs": []
    },
    {
      "cell_type": "code",
      "metadata": {
        "id": "5W32Ueod0scf"
      },
      "source": [
        "print(\"Updated String: \", var1 , 'Python')"
      ],
      "execution_count": null,
      "outputs": []
    },
    {
      "cell_type": "code",
      "metadata": {
        "id": "0_NTdm5H0wEm"
      },
      "source": [
        "print(\"Updated String :- \"+ var1[:5] ,' Python')"
      ],
      "execution_count": null,
      "outputs": []
    },
    {
      "cell_type": "code",
      "metadata": {
        "id": "rI2GhVvb03NO"
      },
      "source": [
        "#Ex :1\r\n",
        "Name = input(\"Enter your name: \")"
      ],
      "execution_count": null,
      "outputs": []
    },
    {
      "cell_type": "code",
      "metadata": {
        "id": "q08qmUeG-f9E"
      },
      "source": [
        "Age = int(input(\"Please Enter your age:\"))"
      ],
      "execution_count": null,
      "outputs": []
    },
    {
      "cell_type": "code",
      "metadata": {
        "id": "zZpqGJjh-6Od"
      },
      "source": [
        "# eval() evaluates the string as python expression.\r\n",
        "Weight = eval(input(\"Enter your Weight: \"))\r\n"
      ],
      "execution_count": null,
      "outputs": []
    },
    {
      "cell_type": "code",
      "metadata": {
        "id": "5sxqOKih_ITV"
      },
      "source": [
        "print(\"1+1\")\r\n"
      ],
      "execution_count": null,
      "outputs": []
    },
    {
      "cell_type": "code",
      "metadata": {
        "id": "gxQLl6Nb_Ufv"
      },
      "source": [
        "eval(\"1+1\")"
      ],
      "execution_count": null,
      "outputs": []
    },
    {
      "cell_type": "code",
      "metadata": {
        "id": "7K4ZTxW0_YzJ"
      },
      "source": [
        "sum = eval(\"1+1\")"
      ],
      "execution_count": null,
      "outputs": []
    },
    {
      "cell_type": "code",
      "metadata": {
        "id": "kP-yVSsQJ8Lm"
      },
      "source": [
        "r = eval(input(\"enter the radius of circle\"))\r\n",
        "pi = 3.14\r\n",
        "area = pi * r * r\r\n",
        "print(\"area of circle is\",area)"
      ],
      "execution_count": null,
      "outputs": []
    },
    {
      "cell_type": "code",
      "metadata": {
        "id": "CErXd8QT_dhj"
      },
      "source": [
        "sum"
      ],
      "execution_count": null,
      "outputs": []
    },
    {
      "cell_type": "code",
      "metadata": {
        "id": "Y8yNyWo2_eiW"
      },
      "source": [
        "(Name, Weight)"
      ],
      "execution_count": null,
      "outputs": []
    },
    {
      "cell_type": "code",
      "metadata": {
        "id": "B1mh9F-F_iYn"
      },
      "source": [
        "# Triple Quotes\r\n",
        "\r\n",
        "''\r\n",
        "\"\"\r\n",
        "\"\"\" \"\"\"\r\n",
        "\r\n",
        "Statement = \"\"\"Welcome to \"python\"\r\n",
        "                basics \"3\"\r\n",
        "                day session\"\"\""
      ],
      "execution_count": null,
      "outputs": []
    },
    {
      "cell_type": "code",
      "metadata": {
        "id": "lqT2gsCR_oCQ"
      },
      "source": [
        "Statement"
      ],
      "execution_count": null,
      "outputs": []
    },
    {
      "cell_type": "code",
      "metadata": {
        "id": "qW-TNdH__rrZ"
      },
      "source": [
        "print(Statement)"
      ],
      "execution_count": null,
      "outputs": []
    },
    {
      "cell_type": "code",
      "metadata": {
        "id": "F2_cdlpRADZn"
      },
      "source": [
        "Name = \"welcome to python\""
      ],
      "execution_count": null,
      "outputs": []
    },
    {
      "cell_type": "code",
      "metadata": {
        "id": "AMSxBehNAJ7Q"
      },
      "source": [
        "print(Name.capitalize())"
      ],
      "execution_count": null,
      "outputs": []
    },
    {
      "cell_type": "code",
      "metadata": {
        "id": "8D92896uANCc"
      },
      "source": [
        "# count() method returns the number of occurrences of the substring in the given string.\r\n",
        "x = \"Welcome to python basics\""
      ],
      "execution_count": null,
      "outputs": []
    },
    {
      "cell_type": "code",
      "metadata": {
        "id": "ECxNXSuoAV7m"
      },
      "source": [
        "y = \"o\""
      ],
      "execution_count": null,
      "outputs": []
    },
    {
      "cell_type": "code",
      "metadata": {
        "id": "T2ne9SriAYw4"
      },
      "source": [
        "count = x.count(y)"
      ],
      "execution_count": null,
      "outputs": []
    },
    {
      "cell_type": "code",
      "metadata": {
        "id": "1yLvfik6Abmy"
      },
      "source": [
        "count"
      ],
      "execution_count": null,
      "outputs": []
    },
    {
      "cell_type": "code",
      "metadata": {
        "id": "uEkqZOQQAc-s"
      },
      "source": [
        "# print count\r\n",
        "print(\"The count is:\", count)"
      ],
      "execution_count": null,
      "outputs": []
    },
    {
      "cell_type": "code",
      "metadata": {
        "id": "H_HX7y0PAi4v"
      },
      "source": [
        ""
      ],
      "execution_count": null,
      "outputs": []
    },
    {
      "cell_type": "markdown",
      "metadata": {
        "id": "gj-BayS4Aokr"
      },
      "source": [
        "# Count number of occurrences of a given substring using start and end"
      ]
    },
    {
      "cell_type": "code",
      "metadata": {
        "id": "giG9nzlvApON"
      },
      "source": [
        "# define string\r\n",
        "string = \"Python is awesome, isn't it\""
      ],
      "execution_count": null,
      "outputs": []
    },
    {
      "cell_type": "code",
      "metadata": {
        "id": "fq8RJWxpAtJ8"
      },
      "source": [
        "string[6]"
      ],
      "execution_count": null,
      "outputs": []
    },
    {
      "cell_type": "code",
      "metadata": {
        "id": "DQDc49wfAwqx"
      },
      "source": [
        "string[25]"
      ],
      "execution_count": null,
      "outputs": []
    },
    {
      "cell_type": "code",
      "metadata": {
        "id": "GbYsJSxIA10M"
      },
      "source": [
        "substring = \"i\""
      ],
      "execution_count": null,
      "outputs": []
    },
    {
      "cell_type": "code",
      "metadata": {
        "id": "tfl3poEJA95E"
      },
      "source": [
        "# count after first 'i' and before the last 'i'\r\n",
        "count = string.count(substring, 6, 25)\r\n"
      ],
      "execution_count": null,
      "outputs": []
    },
    {
      "cell_type": "code",
      "metadata": {
        "id": "FXYOPLNqBCSt"
      },
      "source": [
        "# print count\r\n",
        "print(\"The count is:\", count)\r\n"
      ],
      "execution_count": null,
      "outputs": []
    },
    {
      "cell_type": "code",
      "metadata": {
        "id": "KfBC5NWgBF2H"
      },
      "source": [
        "# Returns true if string has at least 1 character and all characters are alphanumeric and false otherwise.\r\n",
        "\r\n",
        "Num = \"M234567onica\"  # No space in this string"
      ],
      "execution_count": null,
      "outputs": []
    },
    {
      "cell_type": "code",
      "metadata": {
        "id": "lOODNPysBLEe"
      },
      "source": [
        "print(Num.isalnum())"
      ],
      "execution_count": null,
      "outputs": []
    },
    {
      "cell_type": "code",
      "metadata": {
        "id": "SRbXkkeXBOyv"
      },
      "source": [
        "help(Num.isalnum)"
      ],
      "execution_count": null,
      "outputs": []
    },
    {
      "cell_type": "code",
      "metadata": {
        "id": "07di6FhZBST_"
      },
      "source": [
        "Num = \"this is string examplehi!!!\""
      ],
      "execution_count": null,
      "outputs": []
    },
    {
      "cell_type": "code",
      "metadata": {
        "id": "REGxgj2sBW1_"
      },
      "source": [
        "Num.isalnum()"
      ],
      "execution_count": null,
      "outputs": []
    },
    {
      "cell_type": "code",
      "metadata": {
        "id": "GP5RZOQKBZ45"
      },
      "source": [
        "Num = \"this is string example 0909090\""
      ],
      "execution_count": null,
      "outputs": []
    },
    {
      "cell_type": "code",
      "metadata": {
        "id": "0MMCRGQDBd4D"
      },
      "source": [
        "Num.isalnum()"
      ],
      "execution_count": null,
      "outputs": []
    },
    {
      "cell_type": "code",
      "metadata": {
        "id": "axqqGJNoBhHP"
      },
      "source": [
        "Num = \"123\""
      ],
      "execution_count": null,
      "outputs": []
    },
    {
      "cell_type": "code",
      "metadata": {
        "id": "1a5WOx0-BlfU"
      },
      "source": [
        "Num.isalnum()"
      ],
      "execution_count": null,
      "outputs": []
    },
    {
      "cell_type": "code",
      "metadata": {
        "id": "knVoVPT9Bq3o"
      },
      "source": [
        "# This method returns true if all characters in the string are alphabetic and there is at least one character, false otherwise.\r\n",
        "Num = \"this\"  # No space & digit in this string"
      ],
      "execution_count": null,
      "outputs": []
    },
    {
      "cell_type": "code",
      "metadata": {
        "id": "B-IFf0KLBvuu"
      },
      "source": [
        "Num.isalpha()"
      ],
      "execution_count": null,
      "outputs": []
    },
    {
      "cell_type": "code",
      "metadata": {
        "id": "oJLo3MEVBzVo"
      },
      "source": [
        "# This method returns true if all characters in the string are digits and there is at least one character, false otherwise.\r\n",
        "\r\n",
        "Num = \"123456\"  # Only digit in this string"
      ],
      "execution_count": null,
      "outputs": []
    },
    {
      "cell_type": "code",
      "metadata": {
        "id": "tU9MD4cLB38V"
      },
      "source": [
        "Num.isdigit()"
      ],
      "execution_count": null,
      "outputs": []
    },
    {
      "cell_type": "code",
      "metadata": {
        "id": "Wv8l_vsVB7Pn"
      },
      "source": [
        "Num = \"this is string example!!!\""
      ],
      "execution_count": null,
      "outputs": []
    },
    {
      "cell_type": "code",
      "metadata": {
        "id": "3C5FjRyUB_Po"
      },
      "source": [
        "Num.isdigit()"
      ],
      "execution_count": null,
      "outputs": []
    },
    {
      "cell_type": "code",
      "metadata": {
        "id": "V6U4b0cvCCjk"
      },
      "source": [
        "# This method returns a copy of the string in which all case-based characters have been lowercased.\r\n",
        "Num = \"THIS IS STRING EXAMPLE!!!\""
      ],
      "execution_count": null,
      "outputs": []
    },
    {
      "cell_type": "code",
      "metadata": {
        "id": "jDDbnUGKCMPw"
      },
      "source": [
        "Num.lower()"
      ],
      "execution_count": null,
      "outputs": []
    },
    {
      "cell_type": "code",
      "metadata": {
        "id": "VJPFIOyACP_1"
      },
      "source": [
        "# his method returns a copy of the string in which all case-based characters have been Uppercase.\r\n",
        "Num = \"this is string example!!!\""
      ],
      "execution_count": null,
      "outputs": []
    },
    {
      "cell_type": "code",
      "metadata": {
        "id": "cHeG6sxuCUMA"
      },
      "source": [
        "Num.upper()"
      ],
      "execution_count": null,
      "outputs": []
    },
    {
      "cell_type": "code",
      "metadata": {
        "id": "0Mr5BXckCYE2"
      },
      "source": [
        "# The following example shows the usage of replace() method.\r\n",
        "\r\n",
        "reply = \"it is string example!!! is really a string\""
      ],
      "execution_count": null,
      "outputs": []
    },
    {
      "cell_type": "code",
      "metadata": {
        "id": "eUO44SBxFsuS"
      },
      "source": [
        "print(reply.replace(\"is\", \"was\"))"
      ],
      "execution_count": null,
      "outputs": []
    },
    {
      "cell_type": "code",
      "metadata": {
        "id": "PMnAXwSRFw7c"
      },
      "source": [
        "print(reply.replace(\"is\", \"was\", 1))"
      ],
      "execution_count": null,
      "outputs": []
    },
    {
      "cell_type": "code",
      "metadata": {
        "id": "0mZ0X2wYF1cD"
      },
      "source": [
        "help(reply.replace)"
      ],
      "execution_count": null,
      "outputs": []
    },
    {
      "cell_type": "code",
      "metadata": {
        "id": "MwonXLhiF5hv"
      },
      "source": [
        "# The following example shows the usage of split() method.\r\n",
        "split1 = \"Line1-abcdef\\nLine2-abc\\nLine4-abcd\""
      ],
      "execution_count": null,
      "outputs": []
    },
    {
      "cell_type": "code",
      "metadata": {
        "id": "liAk79Z3F-0j"
      },
      "source": [
        "print(split1.split(\"\\n\"))"
      ],
      "execution_count": null,
      "outputs": []
    },
    {
      "cell_type": "code",
      "metadata": {
        "id": "0uSkIH6XGDTx"
      },
      "source": [
        "help(split1.split)"
      ],
      "execution_count": null,
      "outputs": []
    },
    {
      "cell_type": "code",
      "metadata": {
        "id": "9o_-eXqkGHXF"
      },
      "source": [
        ""
      ],
      "execution_count": null,
      "outputs": []
    }
  ]
}