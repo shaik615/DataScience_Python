{
  "nbformat": 4,
  "nbformat_minor": 0,
  "metadata": {
    "colab": {
      "name": "python4.ipynb",
      "provenance": [],
      "authorship_tag": "ABX9TyPT63DB4etyCtJpucvCeQhV",
      "include_colab_link": true
    },
    "kernelspec": {
      "name": "python3",
      "display_name": "Python 3"
    }
  },
  "cells": [
    {
      "cell_type": "markdown",
      "metadata": {
        "id": "view-in-github",
        "colab_type": "text"
      },
      "source": [
        "<a href=\"https://colab.research.google.com/github/shaik615/DataScience_Python/blob/main/python4.ipynb\" target=\"_parent\"><img src=\"https://colab.research.google.com/assets/colab-badge.svg\" alt=\"Open In Colab\"/></a>"
      ]
    },
    {
      "cell_type": "markdown",
      "metadata": {
        "id": "VWr-pafTMBmM"
      },
      "source": [
        "# If"
      ]
    },
    {
      "cell_type": "code",
      "metadata": {
        "id": "86s9WexRMCqU"
      },
      "source": [
        "# If the number is positive, we print an appropriate message\r\n",
        "\r\n",
        "num = -2"
      ],
      "execution_count": null,
      "outputs": []
    },
    {
      "cell_type": "code",
      "metadata": {
        "id": "J4TiFJ8YMIS8"
      },
      "source": [
        "# If the number is positive, we print an appropriate message\r\n",
        "if num > 0:\r\n",
        "    print(num, \"is a positive number.\")"
      ],
      "execution_count": null,
      "outputs": []
    },
    {
      "cell_type": "code",
      "metadata": {
        "id": "RPBrj9mtMZzF"
      },
      "source": [
        "    num = -1"
      ],
      "execution_count": null,
      "outputs": []
    },
    {
      "cell_type": "code",
      "metadata": {
        "id": "I70oONxLM5FB"
      },
      "source": [
        "if num > 0:\r\n",
        "    print(num, \"is a positive number.\")\r\n",
        "    print(\"This is also always printed.\")"
      ],
      "execution_count": null,
      "outputs": []
    },
    {
      "cell_type": "code",
      "metadata": {
        "id": "TDoH5G1YM8vy"
      },
      "source": [
        "## Define a function with conditional statement\r\n",
        "\r\n",
        "def max_num(num1,num2,num3):\r\n",
        "\r\n",
        "    if num1 >= num2 and num1 >= num3:\r\n",
        "\r\n",
        "        return num1\r\n",
        "\r\n",
        "    elif num2 >= num1 and num2 >= num3:\r\n",
        "        return num2\r\n",
        "\r\n",
        "    else:\r\n",
        "        return num3\r\n",
        "\r\n",
        "print (max_num(400,60,1150))"
      ],
      "execution_count": null,
      "outputs": []
    },
    {
      "cell_type": "code",
      "metadata": {
        "id": "RU-Lh13vUN6w"
      },
      "source": [
        "# Nested If\r\n",
        "num = int(input(\"Enter a number: \"))\r\n",
        "\r\n",
        "\r\n",
        "if num >= 0:\r\n",
        "    if num == 0:\r\n",
        "        print(\"Zero\")\r\n",
        "    else:\r\n",
        "        print(\"Positive number\")\r\n",
        "else:\r\n",
        "    print(\"Negative number\")\r\n"
      ],
      "execution_count": null,
      "outputs": []
    },
    {
      "cell_type": "code",
      "metadata": {
        "id": "7GmDyie2UT1W"
      },
      "source": [
        ""
      ],
      "execution_count": null,
      "outputs": []
    },
    {
      "cell_type": "markdown",
      "metadata": {
        "id": "PUih4pkLUcmC"
      },
      "source": [
        "############# Loops #####################"
      ]
    },
    {
      "cell_type": "code",
      "metadata": {
        "id": "UUauKzULUdcG"
      },
      "source": [
        "# for Loop\r\n",
        "# for each item in sequence , last item reached , no - body of loop , yes , exit loop\r\n",
        "\r\n",
        "\r\n",
        "#Ex:1\r\n",
        "\r\n",
        "snacks = ['pizza','burger','shawarma','franky']\r\n",
        "\r\n",
        "for x in snacks:\r\n",
        "    print(\"current snack: \", x)\r\n",
        "\r\n",
        "print(\"Good day!\")\r\n"
      ],
      "execution_count": null,
      "outputs": []
    },
    {
      "cell_type": "code",
      "metadata": {
        "id": "ni5sJJHvUhw3"
      },
      "source": [
        "\r\n",
        "#Ex:2\r\n",
        "\r\n",
        "num = int(input(\"number: \"))\r\n",
        "factorial =1\r\n",
        "\r\n",
        "if num < 0:\r\n",
        "    print(\"must be positive\")\r\n",
        "elif num == 0:\r\n",
        "    print(\"factorial = 1\")\r\n",
        "else:\r\n",
        "    for i in range(1,num+1):\r\n",
        "        factorial = factorial * i\r\n",
        "    print(\"factorial =  \" ,factorial)\r\n",
        "\r\n",
        "x = range(5)\r\n",
        "for i in x:\r\n",
        "    print(i)\r\n",
        "help(range)"
      ],
      "execution_count": null,
      "outputs": []
    },
    {
      "cell_type": "code",
      "metadata": {
        "id": "Jyd3jvcaUouy"
      },
      "source": [
        "#Nested for loop\r\n",
        "\r\n",
        "for i in range(0,3):\r\n",
        "    for j in range(0,3):\r\n",
        "        print(i,j)\r\n",
        "\r\n",
        "# For loop with else:\r\n",
        "digits = [0, 1, 5]\r\n",
        "\r\n",
        "for i in digits:\r\n",
        "    print(i)\r\n",
        "else:\r\n",
        "    print(\"No items left.\")\r\n"
      ],
      "execution_count": null,
      "outputs": []
    },
    {
      "cell_type": "code",
      "metadata": {
        "id": "p-7c91XNU2OX"
      },
      "source": [
        ""
      ],
      "execution_count": null,
      "outputs": []
    },
    {
      "cell_type": "markdown",
      "metadata": {
        "id": "UXaSttL1U7sT"
      },
      "source": [
        "########################## While Loop #############################"
      ]
    },
    {
      "cell_type": "code",
      "metadata": {
        "id": "UVpjEGKOU88m"
      },
      "source": [
        "# Program to add natural\r\n",
        "# Enter the loop , test expression , true , body of code , if false - exit loop.\r\n",
        "# numbers upto\r\n",
        "# sum = 1+2+3+...+n\r\n",
        "\r\n",
        "# To take input from the user,\r\n",
        "# n = int(input(\"Enter n: \"))\r\n",
        "\r\n",
        "n = 4"
      ],
      "execution_count": null,
      "outputs": []
    },
    {
      "cell_type": "code",
      "metadata": {
        "id": "jy8TscAEVE6Y"
      },
      "source": [
        "# initialize sum and counter\r\n",
        "sum = 0\r\n",
        "i = 1\r\n",
        "\r\n",
        "while i <= n:\r\n",
        "    sum = sum + i\r\n",
        "    i = i+1    # update counter\r\n",
        "\r\n",
        "# print the sum\r\n",
        "print(\"The sum is\", sum)"
      ],
      "execution_count": null,
      "outputs": []
    },
    {
      "cell_type": "code",
      "metadata": {
        "id": "IkSFODSGVKQd"
      },
      "source": [
        "# While loop with else\r\n",
        "# Example to illustrate\r\n",
        "# the use of else statement\r\n",
        "# with the while loop\r\n",
        "\r\n",
        "counter = 0\r\n",
        "\r\n",
        "while counter < 3:\r\n",
        "    print(\"Inside loop\")\r\n",
        "    counter = counter + 1\r\n",
        "else:\r\n",
        "    print(\"Inside else\")\r\n"
      ],
      "execution_count": null,
      "outputs": []
    },
    {
      "cell_type": "code",
      "metadata": {
        "id": "KQHyXGCZVP8q"
      },
      "source": [
        "#Ex: 1\r\n",
        "\r\n",
        "count = 0\r\n",
        "\r\n",
        "while count < 20:\r\n",
        "    print(\"Digit: \", count)\r\n",
        "    count = count + 1\r\n",
        "\r\n",
        "print(\"Thank you\")"
      ],
      "execution_count": null,
      "outputs": []
    },
    {
      "cell_type": "code",
      "metadata": {
        "id": "2WscO42GVVLI"
      },
      "source": [
        "#Ex: 2\r\n",
        "\r\n",
        "import random\r\n",
        "\r\n",
        "n = 20\r\n",
        "\r\n",
        "random_number = int(n * random.random())\r\n",
        "\r\n",
        "guess = 0\r\n",
        "\r\n",
        "while guess != random_number:\r\n",
        "    guess = int(input(\"New Number: \"))\r\n",
        "    if guess > 0:\r\n",
        "        if guess > random_number:\r\n",
        "            print(\"number is too large\")\r\n",
        "        elif guess < random_number:\r\n",
        "            print(\"number is too small\")\r\n",
        "    else:\r\n",
        "        print(\"sorry that you are giveup!\")\r\n",
        "        break\r\n",
        "else:\r\n",
        "    print(\"Congratulations. YOU WON!\")\r\n"
      ],
      "execution_count": null,
      "outputs": []
    },
    {
      "cell_type": "code",
      "metadata": {
        "id": "kB6n46euVbhy"
      },
      "source": [
        ""
      ],
      "execution_count": null,
      "outputs": []
    },
    {
      "cell_type": "markdown",
      "metadata": {
        "id": "BUyHJKSkVlmx"
      },
      "source": [
        "################### Modules#################################"
      ]
    },
    {
      "cell_type": "code",
      "metadata": {
        "id": "7Ji0s_sTVmb_"
      },
      "source": [
        "#Ex:1\r\n",
        "\r\n",
        "import math\r\n",
        "\r\n",
        "x = 16\r\n",
        "math.sqrt(x)\r\n",
        "\r\n",
        "math.pow(2,5)\r\n"
      ],
      "execution_count": null,
      "outputs": []
    },
    {
      "cell_type": "code",
      "metadata": {
        "id": "1C5X4XwFVqLb"
      },
      "source": [
        "#Ex:2\r\n",
        "\r\n",
        "import calendar\r\n",
        "\r\n",
        "cal = calendar.month(2020,2)\r\n",
        "\r\n",
        "print(cal)\r\n",
        "\r\n",
        "calendar.isleap(2018)\r\n",
        "\r\n",
        "calendar.isleap(2021)\r\n",
        "\r\n",
        "dir(calendar)\r\n"
      ],
      "execution_count": null,
      "outputs": []
    },
    {
      "cell_type": "code",
      "metadata": {
        "id": "v7jIsELKVynN"
      },
      "source": [
        ""
      ],
      "execution_count": null,
      "outputs": []
    }
  ]
}